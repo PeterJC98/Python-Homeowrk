{
 "cells": [
  {
   "cell_type": "code",
   "execution_count": 1,
   "id": "bc84625d-d05e-4265-bf6d-b73d91899c55",
   "metadata": {},
   "outputs": [],
   "source": [
    "from pathlib import Path\n",
    "import csv"
   ]
  },
  {
   "cell_type": "code",
   "execution_count": 2,
   "id": "1eeb4691-a6ab-45e9-8a01-67d03350021c",
   "metadata": {},
   "outputs": [],
   "source": [
    "csvpath='budget_data.csv'"
   ]
  },
  {
   "cell_type": "code",
   "execution_count": 131,
   "id": "e1727797-b8b2-4910-b63f-e7d17740a19d",
   "metadata": {},
   "outputs": [
    {
     "name": "stdout",
     "output_type": "stream",
     "text": [
      "-2315.12\n",
      "1926159 Feb-2012\n",
      "-2196167 Sep-2013\n",
      "86\n",
      "38382578\n"
     ]
    }
   ],
   "source": [
    "with open(csvpath, 'r') as csvfile:\n",
    "    #print(type(csvfile))\n",
    "    csvreader = csv.reader(csvfile, delimiter=',')\n",
    "    # Print the datatype of the csvreader\n",
    "    #print(type(csvreader))\n",
    "    months=0\n",
    "    Total_Profit=0\n",
    "    budget={}\n",
    "    next(csvreader)\n",
    "    b=0\n",
    "    a=0\n",
    "    Change=0\n",
    "    Maxchange=0\n",
    "    Maxmonth=''\n",
    "    Minchange=0\n",
    "    Minmonth=''\n",
    "    for row in csvreader:\n",
    "        #Number Of Months\n",
    "        months+=1\n",
    "        \n",
    "        #Average Change\n",
    "        if months > 1:\n",
    "            b=int(row[1])-a\n",
    "            Change+=b\n",
    "        else:\n",
    "            pass\n",
    "        #print(Change)\n",
    "        \n",
    "        #Max and Min Change in Profits\n",
    "        if b > Maxchange:\n",
    "            Maxchange=b\n",
    "            Maxmonth=row[0]\n",
    "        if b < Minchange:\n",
    "            Minchange=b\n",
    "            Minmonth=row[0]\n",
    "        \n",
    "        #Total Profit\n",
    "        Total_Profit+=int(row[1])\n",
    "        \n",
    "        #Dictionary\n",
    "        budget[row[0]]=int(row[1])\n",
    "        \n",
    "        #Past Value\n",
    "        a=int(row[1])\n",
    "        \n",
    "    AverageChange=Change/(months-1)\n",
    "    print(round(AverageChange,2))\n",
    "    print(Maxchange, Maxmonth)\n",
    "    print(Minchange, Minmonth)\n",
    "    print(months)\n",
    "    print(Total_Profit)\n",
    "        "
   ]
  },
  {
   "cell_type": "code",
   "execution_count": 96,
   "id": "029e760a-a827-462c-a031-b74413c3acf0",
   "metadata": {},
   "outputs": [
    {
     "name": "stdout",
     "output_type": "stream",
     "text": [
      "Feb-2012 1170593\n",
      "Sep-2013 -1196225\n"
     ]
    }
   ],
   "source": [
    "Maximum=0\n",
    "Minimum=0\n",
    "Maxmonth=''\n",
    "Minmonth=''\n",
    "for month, pnl in budget.items():\n",
    "    if pnl > Maximum:\n",
    "        Maximum=pnl\n",
    "        Maxmonth=month\n",
    "    if pnl < Minimum:\n",
    "        Minimum=pnl\n",
    "        Minmonth=month\n",
    "print(Maxmonth, Maximum)\n",
    "print(Minmonth, Minimum)"
   ]
  },
  {
   "cell_type": "code",
   "execution_count": 117,
   "id": "74571782-f614-4263-9671-8d4a320f45b6",
   "metadata": {},
   "outputs": [
    {
     "data": {
      "text/plain": [
       "1926159"
      ]
     },
     "execution_count": 117,
     "metadata": {},
     "output_type": "execute_result"
    }
   ],
   "source": [
    "budget['Feb-2012']-budget['Jan-2012']"
   ]
  },
  {
   "cell_type": "code",
   "execution_count": null,
   "id": "1f4b4cfa-380f-4d60-a5bd-eb1cdc0df304",
   "metadata": {},
   "outputs": [],
   "source": []
  }
 ],
 "metadata": {
  "kernelspec": {
   "display_name": "Python 3 (ipykernel)",
   "language": "python",
   "name": "python3"
  },
  "language_info": {
   "codemirror_mode": {
    "name": "ipython",
    "version": 3
   },
   "file_extension": ".py",
   "mimetype": "text/x-python",
   "name": "python",
   "nbconvert_exporter": "python",
   "pygments_lexer": "ipython3",
   "version": "3.7.11"
  }
 },
 "nbformat": 4,
 "nbformat_minor": 5
}
