{
 "cells": [
  {
   "cell_type": "code",
   "execution_count": 157,
   "id": "bc84625d-d05e-4265-bf6d-b73d91899c55",
   "metadata": {},
   "outputs": [],
   "source": [
    "from pathlib import Path\n",
    "import csv"
   ]
  },
  {
   "cell_type": "code",
   "execution_count": 158,
   "id": "1eeb4691-a6ab-45e9-8a01-67d03350021c",
   "metadata": {},
   "outputs": [],
   "source": [
    "csvpath='budget_data.csv'"
   ]
  },
  {
   "cell_type": "code",
   "execution_count": 159,
   "id": "e1727797-b8b2-4910-b63f-e7d17740a19d",
   "metadata": {},
   "outputs": [
    {
     "name": "stdout",
     "output_type": "stream",
     "text": [
      "Average Change: $-2315.12\n",
      "Greatest Increase in Profits: ($1926159) Feb-2012\n",
      "Greatest Decrease in Profits: ($-2196167) Sep-2013\n",
      "Total Months: 86\n",
      "Total: $38382578\n"
     ]
    }
   ],
   "source": [
    "with open(csvpath, 'r') as csvfile:\n",
    "    #print(type(csvfile))\n",
    "    csvreader = csv.reader(csvfile, delimiter=',')\n",
    "    # Print the datatype of the csvreader\n",
    "    #print(type(csvreader))\n",
    "    months=0\n",
    "    Total_Profit=0\n",
    "    budget={}\n",
    "    next(csvreader)\n",
    "    Current_month_profit=0\n",
    "    Previous_month_profit=0\n",
    "    Change=0\n",
    "    Maxchange=0\n",
    "    Maxmonth=''\n",
    "    Minchange=0\n",
    "    Minmonth=''\n",
    "    for row in csvreader:\n",
    "        #Number Of Months\n",
    "        months+=1\n",
    "        \n",
    "        #Average Change, Set for Months Greater than 1 since you need at least 2 months to calculate a change\n",
    "        if months > 1:\n",
    "            Current_month_profit=int(row[1])-Previous_month_profit\n",
    "            Change+=Current_month_profit\n",
    "        else:\n",
    "            pass\n",
    "        \n",
    "        \n",
    "        #Max and Min Change in Profits\n",
    "        if Current_month_profit > Maxchange:\n",
    "            Maxchange=Current_month_profit\n",
    "            Maxmonth=row[0]\n",
    "        if Current_month_profit < Minchange:\n",
    "            Minchange=Current_month_profit\n",
    "            Minmonth=row[0]\n",
    "        \n",
    "        #Total Profit\n",
    "        Total_Profit+=int(row[1])\n",
    "        \n",
    "        #Dictionary\n",
    "        budget[row[0]]=int(row[1])\n",
    "        \n",
    "        #Past Value: Placed at end of the loop so that the old value is used at the beginning of next loop\n",
    "        Previous_month_profit=int(row[1])\n",
    "        \n",
    "    AverageChange=Change/(months-1)\n",
    "    print(f'Average Change: ${round(AverageChange,2)}')\n",
    "    print(f'Greatest Increase in Profits: (${Maxchange}) {Maxmonth}')\n",
    "    print(f'Greatest Decrease in Profits: (${Minchange}) {Minmonth}')\n",
    "    print(f'Total Months: {months}')\n",
    "    print(f'Total: ${Total_Profit}')\n",
    "        "
   ]
  },
  {
   "cell_type": "code",
   "execution_count": null,
   "id": "1f4b4cfa-380f-4d60-a5bd-eb1cdc0df304",
   "metadata": {},
   "outputs": [],
   "source": [
    "with open('results.txt', 'w') as f:\n",
    "    print(f'Average Change: ${round(AverageChange,2)}')\n",
    "    print(f'Greatest Increase in Profits: (${Maxchange}) {Maxmonth}')\n",
    "    print(f'Greatest Decrease in Profits: (${Minchange}) {Minmonth}')\n",
    "    print(f'Total Months: {months}')\n",
    "    print(f'Total: ${Total_Profit}')"
   ]
  },
  {
   "cell_type": "code",
   "execution_count": null,
   "id": "639135ca-7313-41b2-b190-a537f9434b6b",
   "metadata": {},
   "outputs": [],
   "source": []
  }
 ],
 "metadata": {
  "kernelspec": {
   "display_name": "Python 3 (ipykernel)",
   "language": "python",
   "name": "python3"
  },
  "language_info": {
   "codemirror_mode": {
    "name": "ipython",
    "version": 3
   },
   "file_extension": ".py",
   "mimetype": "text/x-python",
   "name": "python",
   "nbconvert_exporter": "python",
   "pygments_lexer": "ipython3",
   "version": "3.7.11"
  }
 },
 "nbformat": 4,
 "nbformat_minor": 5
}
