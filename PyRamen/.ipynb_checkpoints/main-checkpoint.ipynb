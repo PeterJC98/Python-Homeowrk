{
 "cells": [
  {
   "cell_type": "code",
   "execution_count": 187,
   "id": "5eba28f1-e6d0-4170-b6f2-56224bf4880a",
   "metadata": {},
   "outputs": [],
   "source": [
    "from pathlib import Path\n",
    "import csv"
   ]
  },
  {
   "cell_type": "code",
   "execution_count": 188,
   "id": "f3d32cac-5661-4f33-9dd2-42f84b09744b",
   "metadata": {},
   "outputs": [],
   "source": [
    "menu_data_path='menu_data.csv'"
   ]
  },
  {
   "cell_type": "code",
   "execution_count": 189,
   "id": "dd8948d1-44fb-4f62-ae9e-5ca5e18d0525",
   "metadata": {},
   "outputs": [],
   "source": [
    "sales_data_path='sales_data.csv'"
   ]
  },
  {
   "cell_type": "code",
   "execution_count": 190,
   "id": "362098c6-5b1f-41fa-92b8-e45bb8f8af0b",
   "metadata": {},
   "outputs": [],
   "source": [
    "menu=[]\n",
    "with open(menu_data_path, 'r') as menufile:\n",
    "    csvreader = csv.reader(menufile, delimiter=',')\n",
    "    next(csvreader)\n",
    "    for row in csvreader:\n",
    "        menu.append(row)"
   ]
  },
  {
   "cell_type": "code",
   "execution_count": 191,
   "id": "3bd6b9e8-dbaa-4318-9317-9f51678e9687",
   "metadata": {},
   "outputs": [],
   "source": [
    "#menu"
   ]
  },
  {
   "cell_type": "code",
   "execution_count": 192,
   "id": "f3e9e0f1-45e1-468d-a0e2-8c126ffe85f2",
   "metadata": {},
   "outputs": [],
   "source": [
    "menu_items=[]\n",
    "for items in menu:\n",
    "    menu_items.append(items[0])"
   ]
  },
  {
   "cell_type": "code",
   "execution_count": 193,
   "id": "38121575-22bd-4663-b731-1ad35bb1e171",
   "metadata": {},
   "outputs": [],
   "source": [
    "#menu_items"
   ]
  },
  {
   "cell_type": "code",
   "execution_count": 194,
   "id": "7699d73d-f60c-465a-8c3e-b0210ff87374",
   "metadata": {},
   "outputs": [],
   "source": [
    "sales=[]\n",
    "with open(sales_data_path, 'r') as salesfile:\n",
    "    csvreader = csv.reader(salesfile, delimiter=',')\n",
    "    next(csvreader)\n",
    "    for row in csvreader:\n",
    "        sales.append(row)"
   ]
  },
  {
   "cell_type": "code",
   "execution_count": 195,
   "id": "9ffa6e33-647c-4ce1-bfe3-4af3a6d67031",
   "metadata": {},
   "outputs": [],
   "source": [
    "#sales"
   ]
  },
  {
   "cell_type": "code",
   "execution_count": 204,
   "id": "a5ebc1b0-b595-4b83-bcc0-9127d34850d2",
   "metadata": {},
   "outputs": [],
   "source": [
    "report={}\n",
    "for x in sales:\n",
    "    report[x[4]]={\n",
    "\"01-count\": 0,\n",
    "\"02-revenue\": 0,\n",
    "\"03-cogs\": 0,\n",
    "\"04-profit\": 0,\n",
    "}\n"
   ]
  },
  {
   "cell_type": "code",
   "execution_count": 197,
   "id": "35c0cb11-c2e7-4166-a6c6-8606d1927b6a",
   "metadata": {},
   "outputs": [],
   "source": [
    "salesdict={}\n",
    "for rows in sales:\n",
    "    if rows[4] in salesdict:\n",
    "        salesdict[rows[4]]+=int(rows[3])\n",
    "    else:\n",
    "        salesdict[rows[4]]=int(rows[3])"
   ]
  },
  {
   "cell_type": "code",
   "execution_count": 207,
   "id": "154a50e7-a126-4c78-8c81-9e192e094726",
   "metadata": {},
   "outputs": [
    {
     "data": {
      "text/plain": [
       "{'spicy miso ramen': 9238,\n",
       " 'tori paitan ramen': 9156,\n",
       " 'truffle butter ramen': 8982,\n",
       " 'tonkotsu ramen': 9288,\n",
       " 'vegetarian spicy miso': 9216,\n",
       " 'shio ramen': 9180,\n",
       " 'miso crab ramen': 8890,\n",
       " 'nagomi shoyu': 9132,\n",
       " 'soft-shell miso crab ramen': 9130,\n",
       " 'burnt garlic tonkotsu ramen': 9070,\n",
       " 'vegetarian curry + king trumpet mushroom ramen': 8824}"
      ]
     },
     "execution_count": 207,
     "metadata": {},
     "output_type": "execute_result"
    }
   ],
   "source": [
    "salesdict"
   ]
  },
  {
   "cell_type": "code",
   "execution_count": 199,
   "id": "27d1fba1-dfc1-4514-a357-acad10e64ada",
   "metadata": {},
   "outputs": [],
   "source": [
    "menudict={}\n",
    "for rows in menu:\n",
    "        menudict[rows[0]]=[float(rows[3]),int(rows[4])]"
   ]
  },
  {
   "cell_type": "code",
   "execution_count": 209,
   "id": "07773dda-8d5f-404a-80ad-7b55db675938",
   "metadata": {},
   "outputs": [],
   "source": [
    "#menudict"
   ]
  },
  {
   "cell_type": "code",
   "execution_count": 205,
   "id": "ebaed9d7-9506-4d39-89e4-e71bc6562b8d",
   "metadata": {},
   "outputs": [
    {
     "name": "stdout",
     "output_type": "stream",
     "text": [
      "edamame does not exist in sales\n",
      "house salad does not exist in sales\n",
      "cucumber sunomono salad does not exist in sales\n",
      "hiyashi wakame seaweed salad does not exist in sales\n",
      "agedashi tofu does not exist in sales\n",
      "hiyayakko tofu does not exist in sales\n",
      "pork floss bao does not exist in sales\n",
      "kakuni bao does not exist in sales\n",
      "edamame fried gyoza (vegan) does not exist in sales\n",
      "fried gyoza does not exist in sales\n",
      "takoyaki does not exist in sales\n",
      "rock shrimp tempura does not exist in sales\n",
      "soft-shell crab tempura does not exist in sales\n",
      "ebi katsu shrimp bao does not exist in sales\n",
      "green tea does not exist in sales\n",
      "coke does not exist in sales\n",
      "black sesame ice cream does not exist in sales\n",
      "matcha ice cream does not exist in sales\n",
      "mango mochi ice cream does not exist in sales\n",
      "strawberry mochi ice cream does not exist in sales\n",
      "black sesame creme brulee does not exist in sales\n"
     ]
    }
   ],
   "source": [
    "for items in menu_items:\n",
    "    if items in salesdict and items in menudict:\n",
    "        report[items]['01-count']=salesdict[items]\n",
    "        report[items]['02-revenue']=salesdict[items]*menudict[items][0]\n",
    "        report[items]['03-cogs']=salesdict[items]*menudict[items][1]\n",
    "        report[items]['04-profit']=report[items]['02-revenue']-report[items]['03-cogs']\n",
    "    else:\n",
    "        print(f'{items} does not exist in sales')"
   ]
  },
  {
   "cell_type": "code",
   "execution_count": 206,
   "id": "834e3556-973e-4cee-a6c8-38153f56644c",
   "metadata": {},
   "outputs": [
    {
     "data": {
      "text/plain": [
       "{'spicy miso ramen': {'01-count': 9238,\n",
       "  '02-revenue': 110856.0,\n",
       "  '03-cogs': 46190,\n",
       "  '04-profit': 64666.0},\n",
       " 'tori paitan ramen': {'01-count': 9156,\n",
       "  '02-revenue': 119028.0,\n",
       "  '03-cogs': 54936,\n",
       "  '04-profit': 64092.0},\n",
       " 'truffle butter ramen': {'01-count': 8982,\n",
       "  '02-revenue': 125748.0,\n",
       "  '03-cogs': 62874,\n",
       "  '04-profit': 62874.0},\n",
       " 'tonkotsu ramen': {'01-count': 9288,\n",
       "  '02-revenue': 120744.0,\n",
       "  '03-cogs': 55728,\n",
       "  '04-profit': 65016.0},\n",
       " 'vegetarian spicy miso': {'01-count': 9216,\n",
       "  '02-revenue': 110592.0,\n",
       "  '03-cogs': 46080,\n",
       "  '04-profit': 64512.0},\n",
       " 'shio ramen': {'01-count': 9180,\n",
       "  '02-revenue': 100980.0,\n",
       "  '03-cogs': 45900,\n",
       "  '04-profit': 55080.0},\n",
       " 'miso crab ramen': {'01-count': 8890,\n",
       "  '02-revenue': 106680.0,\n",
       "  '03-cogs': 53340,\n",
       "  '04-profit': 53340.0},\n",
       " 'nagomi shoyu': {'01-count': 9132,\n",
       "  '02-revenue': 100452.0,\n",
       "  '03-cogs': 45660,\n",
       "  '04-profit': 54792.0},\n",
       " 'soft-shell miso crab ramen': {'01-count': 9130,\n",
       "  '02-revenue': 127820.0,\n",
       "  '03-cogs': 63910,\n",
       "  '04-profit': 63910.0},\n",
       " 'burnt garlic tonkotsu ramen': {'01-count': 9070,\n",
       "  '02-revenue': 126980.0,\n",
       "  '03-cogs': 54420,\n",
       "  '04-profit': 72560.0},\n",
       " 'vegetarian curry + king trumpet mushroom ramen': {'01-count': 8824,\n",
       "  '02-revenue': 114712.0,\n",
       "  '03-cogs': 61768,\n",
       "  '04-profit': 52944.0}}"
      ]
     },
     "execution_count": 206,
     "metadata": {},
     "output_type": "execute_result"
    }
   ],
   "source": [
    "report"
   ]
  },
  {
   "cell_type": "code",
   "execution_count": null,
   "id": "0546feed-2ea9-4afa-bc4b-c7d859c593c9",
   "metadata": {},
   "outputs": [],
   "source": []
  }
 ],
 "metadata": {
  "kernelspec": {
   "display_name": "Python 3 (ipykernel)",
   "language": "python",
   "name": "python3"
  },
  "language_info": {
   "codemirror_mode": {
    "name": "ipython",
    "version": 3
   },
   "file_extension": ".py",
   "mimetype": "text/x-python",
   "name": "python",
   "nbconvert_exporter": "python",
   "pygments_lexer": "ipython3",
   "version": "3.7.11"
  }
 },
 "nbformat": 4,
 "nbformat_minor": 5
}
