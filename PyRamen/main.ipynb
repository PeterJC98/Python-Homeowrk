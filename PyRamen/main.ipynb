{
 "cells": [
  {
   "cell_type": "code",
   "execution_count": 17,
   "id": "5eba28f1-e6d0-4170-b6f2-56224bf4880a",
   "metadata": {},
   "outputs": [],
   "source": [
    "from pathlib import Path\n",
    "import csv"
   ]
  },
  {
   "cell_type": "code",
   "execution_count": 18,
   "id": "f3d32cac-5661-4f33-9dd2-42f84b09744b",
   "metadata": {},
   "outputs": [],
   "source": [
    "menu_data_path='menu_data.csv'"
   ]
  },
  {
   "cell_type": "code",
   "execution_count": 19,
   "id": "dd8948d1-44fb-4f62-ae9e-5ca5e18d0525",
   "metadata": {},
   "outputs": [],
   "source": [
    "sales_data_path='sales_data.csv'"
   ]
  },
  {
   "cell_type": "code",
   "execution_count": 20,
   "id": "362098c6-5b1f-41fa-92b8-e45bb8f8af0b",
   "metadata": {},
   "outputs": [],
   "source": [
    "menu=[]\n",
    "with open(menu_data_path, 'r') as menufile:\n",
    "    csvreader = csv.reader(menufile, delimiter=',')\n",
    "    next(csvreader)\n",
    "    for row in csvreader:\n",
    "        menu.append(row)"
   ]
  },
  {
   "cell_type": "code",
   "execution_count": 21,
   "id": "3bd6b9e8-dbaa-4318-9317-9f51678e9687",
   "metadata": {},
   "outputs": [],
   "source": [
    "#menu"
   ]
  },
  {
   "cell_type": "code",
   "execution_count": 22,
   "id": "7699d73d-f60c-465a-8c3e-b0210ff87374",
   "metadata": {},
   "outputs": [],
   "source": [
    "sales=[]\n",
    "with open(sales_data_path, 'r') as salesfile:\n",
    "    csvreader = csv.reader(salesfile, delimiter=',')\n",
    "    next(csvreader)\n",
    "    for row in csvreader:\n",
    "        sales.append(row)"
   ]
  },
  {
   "cell_type": "code",
   "execution_count": 23,
   "id": "9ffa6e33-647c-4ce1-bfe3-4af3a6d67031",
   "metadata": {},
   "outputs": [],
   "source": [
    "#sales"
   ]
  },
  {
   "cell_type": "code",
   "execution_count": null,
   "id": "a5ebc1b0-b595-4b83-bcc0-9127d34850d2",
   "metadata": {},
   "outputs": [],
   "source": []
  }
 ],
 "metadata": {
  "kernelspec": {
   "display_name": "Python 3 (ipykernel)",
   "language": "python",
   "name": "python3"
  },
  "language_info": {
   "codemirror_mode": {
    "name": "ipython",
    "version": 3
   },
   "file_extension": ".py",
   "mimetype": "text/x-python",
   "name": "python",
   "nbconvert_exporter": "python",
   "pygments_lexer": "ipython3",
   "version": "3.7.11"
  }
 },
 "nbformat": 4,
 "nbformat_minor": 5
}
