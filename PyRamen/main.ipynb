{
 "cells": [
  {
   "cell_type": "code",
   "execution_count": 262,
   "id": "5eba28f1-e6d0-4170-b6f2-56224bf4880a",
   "metadata": {},
   "outputs": [],
   "source": [
    "from pathlib import Path\n",
    "import csv"
   ]
  },
  {
   "cell_type": "code",
   "execution_count": 263,
   "id": "f3d32cac-5661-4f33-9dd2-42f84b09744b",
   "metadata": {},
   "outputs": [],
   "source": [
    "menu_data_path='menu_data.csv'"
   ]
  },
  {
   "cell_type": "code",
   "execution_count": 264,
   "id": "dd8948d1-44fb-4f62-ae9e-5ca5e18d0525",
   "metadata": {},
   "outputs": [],
   "source": [
    "sales_data_path='sales_data.csv'"
   ]
  },
  {
   "cell_type": "code",
   "execution_count": 265,
   "id": "362098c6-5b1f-41fa-92b8-e45bb8f8af0b",
   "metadata": {},
   "outputs": [],
   "source": [
    "#Creating list of menufile\n",
    "menu=[]\n",
    "with open(menu_data_path, 'r') as menufile:\n",
    "    csvreader = csv.reader(menufile, delimiter=',')\n",
    "    next(csvreader)\n",
    "    for row in csvreader:\n",
    "        menu.append(row)"
   ]
  },
  {
   "cell_type": "code",
   "execution_count": 266,
   "id": "f3e9e0f1-45e1-468d-a0e2-8c126ffe85f2",
   "metadata": {},
   "outputs": [],
   "source": [
    "#Creating list of all menu items in menufile\n",
    "menu_items=[]\n",
    "for items in menu:\n",
    "    menu_items.append(items[0])"
   ]
  },
  {
   "cell_type": "code",
   "execution_count": 267,
   "id": "7699d73d-f60c-465a-8c3e-b0210ff87374",
   "metadata": {},
   "outputs": [],
   "source": [
    "#Creating list of all sales data\n",
    "sales=[]\n",
    "with open(sales_data_path, 'r') as salesfile:\n",
    "    csvreader = csv.reader(salesfile, delimiter=',')\n",
    "    next(csvreader)\n",
    "    for row in csvreader:\n",
    "        sales.append(row)"
   ]
  },
  {
   "cell_type": "code",
   "execution_count": 268,
   "id": "a5ebc1b0-b595-4b83-bcc0-9127d34850d2",
   "metadata": {},
   "outputs": [],
   "source": [
    "#Initalising the report Dictionary\n",
    "report={}\n",
    "for x in sales:\n",
    "    report[x[4]]={\n",
    "\"01-count\": 0,\n",
    "\"02-revenue\": 0,\n",
    "\"03-cogs\": 0,\n",
    "\"04-profit\": 0,\n",
    "}\n"
   ]
  },
  {
   "cell_type": "code",
   "execution_count": 269,
   "id": "35c0cb11-c2e7-4166-a6c6-8606d1927b6a",
   "metadata": {},
   "outputs": [],
   "source": [
    "#Creating a dictionary that pairs Sales items with their quantity\n",
    "salesdict={}\n",
    "for rows in sales:\n",
    "    if rows[4] in salesdict:\n",
    "        salesdict[rows[4]]+=int(rows[3])\n",
    "    else:\n",
    "        salesdict[rows[4]]=int(rows[3])"
   ]
  },
  {
   "cell_type": "code",
   "execution_count": 270,
   "id": "27d1fba1-dfc1-4514-a357-acad10e64ada",
   "metadata": {},
   "outputs": [],
   "source": [
    "#Creating dictionary that pairs menu items with their profit and cost\n",
    "menudict={}\n",
    "for rows in menu:\n",
    "        menudict[rows[0]]=[float(rows[3]),int(rows[4])]"
   ]
  },
  {
   "cell_type": "code",
   "execution_count": 271,
   "id": "ebaed9d7-9506-4d39-89e4-e71bc6562b8d",
   "metadata": {},
   "outputs": [
    {
     "name": "stdout",
     "output_type": "stream",
     "text": [
      "edamame does not exist in sales\n",
      "house salad does not exist in sales\n",
      "cucumber sunomono salad does not exist in sales\n",
      "hiyashi wakame seaweed salad does not exist in sales\n",
      "agedashi tofu does not exist in sales\n",
      "hiyayakko tofu does not exist in sales\n",
      "pork floss bao does not exist in sales\n",
      "kakuni bao does not exist in sales\n",
      "edamame fried gyoza (vegan) does not exist in sales\n",
      "fried gyoza does not exist in sales\n",
      "takoyaki does not exist in sales\n",
      "rock shrimp tempura does not exist in sales\n",
      "soft-shell crab tempura does not exist in sales\n",
      "ebi katsu shrimp bao does not exist in sales\n",
      "green tea does not exist in sales\n",
      "coke does not exist in sales\n",
      "black sesame ice cream does not exist in sales\n",
      "matcha ice cream does not exist in sales\n",
      "mango mochi ice cream does not exist in sales\n",
      "strawberry mochi ice cream does not exist in sales\n",
      "black sesame creme brulee does not exist in sales\n"
     ]
    }
   ],
   "source": [
    "#Iterating through all menu items\n",
    "for items in menu_items:\n",
    "    #testing if menu item was a sales item\n",
    "    if items in salesdict and items in menudict:\n",
    "        #Completing all necessary calculations and assigning them to report dictionary\n",
    "        report[items]['01-count']=salesdict[items]\n",
    "        report[items]['02-revenue']=salesdict[items]*menudict[items][0]\n",
    "        report[items]['03-cogs']=salesdict[items]*menudict[items][1]\n",
    "        report[items]['04-profit']=report[items]['02-revenue']-report[items]['03-cogs']\n",
    "    else:\n",
    "        #Printing items that cant be found in sales items\n",
    "        print(f'{items} does not exist in sales')"
   ]
  },
  {
   "cell_type": "code",
   "execution_count": 272,
   "id": "834e3556-973e-4cee-a6c8-38153f56644c",
   "metadata": {},
   "outputs": [
    {
     "name": "stdout",
     "output_type": "stream",
     "text": [
      "{'spicy miso ramen': {'01-count': 9238, '02-revenue': 110856.0, '03-cogs': 46190, '04-profit': 64666.0}, 'tori paitan ramen': {'01-count': 9156, '02-revenue': 119028.0, '03-cogs': 54936, '04-profit': 64092.0}, 'truffle butter ramen': {'01-count': 8982, '02-revenue': 125748.0, '03-cogs': 62874, '04-profit': 62874.0}, 'tonkotsu ramen': {'01-count': 9288, '02-revenue': 120744.0, '03-cogs': 55728, '04-profit': 65016.0}, 'vegetarian spicy miso': {'01-count': 9216, '02-revenue': 110592.0, '03-cogs': 46080, '04-profit': 64512.0}, 'shio ramen': {'01-count': 9180, '02-revenue': 100980.0, '03-cogs': 45900, '04-profit': 55080.0}, 'miso crab ramen': {'01-count': 8890, '02-revenue': 106680.0, '03-cogs': 53340, '04-profit': 53340.0}, 'nagomi shoyu': {'01-count': 9132, '02-revenue': 100452.0, '03-cogs': 45660, '04-profit': 54792.0}, 'soft-shell miso crab ramen': {'01-count': 9130, '02-revenue': 127820.0, '03-cogs': 63910, '04-profit': 63910.0}, 'burnt garlic tonkotsu ramen': {'01-count': 9070, '02-revenue': 126980.0, '03-cogs': 54420, '04-profit': 72560.0}, 'vegetarian curry + king trumpet mushroom ramen': {'01-count': 8824, '02-revenue': 114712.0, '03-cogs': 61768, '04-profit': 52944.0}}\n"
     ]
    }
   ],
   "source": [
    "print(report)"
   ]
  },
  {
   "cell_type": "code",
   "execution_count": 276,
   "id": "0546feed-2ea9-4afa-bc4b-c7d859c593c9",
   "metadata": {},
   "outputs": [],
   "source": [
    "#writing to text file\n",
    "with open('results.txt', 'w') as f:\n",
    "     print(report, file=f)"
   ]
  }
 ],
 "metadata": {
  "kernelspec": {
   "display_name": "Python 3 (ipykernel)",
   "language": "python",
   "name": "python3"
  },
  "language_info": {
   "codemirror_mode": {
    "name": "ipython",
    "version": 3
   },
   "file_extension": ".py",
   "mimetype": "text/x-python",
   "name": "python",
   "nbconvert_exporter": "python",
   "pygments_lexer": "ipython3",
   "version": "3.7.11"
  }
 },
 "nbformat": 4,
 "nbformat_minor": 5
}
